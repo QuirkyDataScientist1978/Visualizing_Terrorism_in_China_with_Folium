{
 "cells": [
  {
   "cell_type": "code",
   "execution_count": 54,
   "metadata": {
    "collapsed": false
   },
   "outputs": [
    {
     "data": {
      "text/html": [
       "<div>\n",
       "<table border=\"1\" class=\"dataframe\">\n",
       "  <thead>\n",
       "    <tr style=\"text-align: right;\">\n",
       "      <th></th>\n",
       "      <th>Article Title</th>\n",
       "      <th>Report Year</th>\n",
       "      <th>Incident City</th>\n",
       "      <th>Confirmed Death(s)</th>\n",
       "    </tr>\n",
       "  </thead>\n",
       "  <tbody>\n",
       "    <tr>\n",
       "      <th>1</th>\n",
       "      <td>Terrorism in Nanwei: Sufferes Represenattive</td>\n",
       "      <td>1947.0</td>\n",
       "      <td>UNK</td>\n",
       "      <td>0</td>\n",
       "    </tr>\n",
       "    <tr>\n",
       "      <th>2</th>\n",
       "      <td>Terrorism, Economic Chaos Make Kumming's Unhap...</td>\n",
       "      <td>1947.0</td>\n",
       "      <td>Kumming</td>\n",
       "      <td>4</td>\n",
       "    </tr>\n",
       "    <tr>\n",
       "      <th>4</th>\n",
       "      <td>Terroritsts Attack Review Editor Following Ant...</td>\n",
       "      <td>1941.0</td>\n",
       "      <td>Nanking</td>\n",
       "      <td>0</td>\n",
       "    </tr>\n",
       "    <tr>\n",
       "      <th>6</th>\n",
       "      <td>Terrorists Kill Japanese Civilian Sailor; U.S....</td>\n",
       "      <td>1941.0</td>\n",
       "      <td>Nantao</td>\n",
       "      <td>0</td>\n",
       "    </tr>\n",
       "    <tr>\n",
       "      <th>8</th>\n",
       "      <td>Emigrants' Committee Condemns Terrorism</td>\n",
       "      <td>1941.0</td>\n",
       "      <td>Shanghai</td>\n",
       "      <td>3</td>\n",
       "    </tr>\n",
       "  </tbody>\n",
       "</table>\n",
       "</div>"
      ],
      "text/plain": [
       "                                       Article Title  Report Year  \\\n",
       "1       Terrorism in Nanwei: Sufferes Represenattive       1947.0   \n",
       "2  Terrorism, Economic Chaos Make Kumming's Unhap...       1947.0   \n",
       "4  Terroritsts Attack Review Editor Following Ant...       1941.0   \n",
       "6  Terrorists Kill Japanese Civilian Sailor; U.S....       1941.0   \n",
       "8            Emigrants' Committee Condemns Terrorism       1941.0   \n",
       "\n",
       "  Incident City Confirmed Death(s)  \n",
       "1           UNK                  0  \n",
       "2       Kumming                  4  \n",
       "4       Nanking                  0  \n",
       "6        Nantao                  0  \n",
       "8      Shanghai                  3  "
      ]
     },
     "execution_count": 54,
     "metadata": {},
     "output_type": "execute_result"
    }
   ],
   "source": [
    "import pandas as pd\n",
    "df = pd.read_csv('Terrorism Project - Raw Data.csv')\n",
    "df = df[df['Incident Country'] == 'China']\n",
    "df = df[['Article Title', 'Report Year', 'Incident City', 'Confirmed Death(s)']]\n",
    "df = df.dropna()\n",
    "df.head()"
   ]
  },
  {
   "cell_type": "code",
   "execution_count": 55,
   "metadata": {
    "collapsed": false
   },
   "outputs": [
    {
     "data": {
      "text/html": [
       "<div>\n",
       "<table border=\"1\" class=\"dataframe\">\n",
       "  <thead>\n",
       "    <tr style=\"text-align: right;\">\n",
       "      <th></th>\n",
       "      <th>Incidents</th>\n",
       "    </tr>\n",
       "    <tr>\n",
       "      <th>Report Year</th>\n",
       "      <th></th>\n",
       "    </tr>\n",
       "  </thead>\n",
       "  <tbody>\n",
       "    <tr>\n",
       "      <th>1938.0</th>\n",
       "      <td>16</td>\n",
       "    </tr>\n",
       "    <tr>\n",
       "      <th>1939.0</th>\n",
       "      <td>38</td>\n",
       "    </tr>\n",
       "    <tr>\n",
       "      <th>1940.0</th>\n",
       "      <td>19</td>\n",
       "    </tr>\n",
       "    <tr>\n",
       "      <th>1941.0</th>\n",
       "      <td>50</td>\n",
       "    </tr>\n",
       "    <tr>\n",
       "      <th>1947.0</th>\n",
       "      <td>2</td>\n",
       "    </tr>\n",
       "  </tbody>\n",
       "</table>\n",
       "</div>"
      ],
      "text/plain": [
       "             Incidents\n",
       "Report Year           \n",
       "1938.0              16\n",
       "1939.0              38\n",
       "1940.0              19\n",
       "1941.0              50\n",
       "1947.0               2"
      ]
     },
     "execution_count": 55,
     "metadata": {},
     "output_type": "execute_result"
    }
   ],
   "source": [
    "incidents = df.groupby(['Report Year']).agg(['count'])\n",
    "incidents = incidents['Article Title']\n",
    "incidents.columns = ['Incidents']\n",
    "incidents"
   ]
  },
  {
   "cell_type": "code",
   "execution_count": 57,
   "metadata": {
    "collapsed": false
   },
   "outputs": [
    {
     "name": "stderr",
     "output_type": "stream",
     "text": [
      "/anaconda/lib/python2.7/site-packages/ipykernel/__main__.py:2: UserWarning: This pattern has match groups. To actually get the groups, use str.extract.\n",
      "  from ipykernel import kernelapp as app\n"
     ]
    },
    {
     "data": {
      "text/html": [
       "<div>\n",
       "<table border=\"1\" class=\"dataframe\">\n",
       "  <thead>\n",
       "    <tr style=\"text-align: right;\">\n",
       "      <th></th>\n",
       "      <th></th>\n",
       "      <th>Confirmed Death(s)</th>\n",
       "    </tr>\n",
       "    <tr>\n",
       "      <th>Report Year</th>\n",
       "      <th>Incident City</th>\n",
       "      <th></th>\n",
       "    </tr>\n",
       "  </thead>\n",
       "  <tbody>\n",
       "    <tr>\n",
       "      <th>1938.0</th>\n",
       "      <th>Shanghai</th>\n",
       "      <td>17</td>\n",
       "    </tr>\n",
       "    <tr>\n",
       "      <th rowspan=\"4\" valign=\"top\">1939.0</th>\n",
       "      <th>Amoy</th>\n",
       "      <td>0</td>\n",
       "    </tr>\n",
       "    <tr>\n",
       "      <th>Hong Kong</th>\n",
       "      <td>3</td>\n",
       "    </tr>\n",
       "    <tr>\n",
       "      <th>Shanghai</th>\n",
       "      <td>19</td>\n",
       "    </tr>\n",
       "    <tr>\n",
       "      <th>Tianjin</th>\n",
       "      <td>1</td>\n",
       "    </tr>\n",
       "    <tr>\n",
       "      <th>1940.0</th>\n",
       "      <th>Shanghai</th>\n",
       "      <td>7</td>\n",
       "    </tr>\n",
       "    <tr>\n",
       "      <th rowspan=\"4\" valign=\"top\">1941.0</th>\n",
       "      <th>Hangzhou</th>\n",
       "      <td>0</td>\n",
       "    </tr>\n",
       "    <tr>\n",
       "      <th>Nanking</th>\n",
       "      <td>0</td>\n",
       "    </tr>\n",
       "    <tr>\n",
       "      <th>Nantao</th>\n",
       "      <td>0</td>\n",
       "    </tr>\n",
       "    <tr>\n",
       "      <th>Shanghai</th>\n",
       "      <td>40</td>\n",
       "    </tr>\n",
       "    <tr>\n",
       "      <th rowspan=\"2\" valign=\"top\">1947.0</th>\n",
       "      <th>Kumming</th>\n",
       "      <td>4</td>\n",
       "    </tr>\n",
       "    <tr>\n",
       "      <th>UNK</th>\n",
       "      <td>0</td>\n",
       "    </tr>\n",
       "  </tbody>\n",
       "</table>\n",
       "</div>"
      ],
      "text/plain": [
       "                           Confirmed Death(s)\n",
       "Report Year Incident City                    \n",
       "1938.0      Shanghai                       17\n",
       "1939.0      Amoy                            0\n",
       "            Hong Kong                       3\n",
       "            Shanghai                       19\n",
       "            Tianjin                         1\n",
       "1940.0      Shanghai                        7\n",
       "1941.0      Hangzhou                        0\n",
       "            Nanking                         0\n",
       "            Nantao                          0\n",
       "            Shanghai                       40\n",
       "1947.0      Kumming                         4\n",
       "            UNK                             0"
      ]
     },
     "execution_count": 57,
     "metadata": {},
     "output_type": "execute_result"
    }
   ],
   "source": [
    "deaths = df.copy()\n",
    "deaths = deaths[~deaths['Confirmed Death(s)'].astype(str).str.contains('(Non-Unique)')]\n",
    "deaths['Confirmed Death(s)'] = deaths['Confirmed Death(s)'].apply(pd.to_numeric)\n",
    "deaths = deaths[['Report Year', 'Incident City', 'Confirmed Death(s)']]\n",
    "deaths.groupby(['Report Year', 'Incident City']).sum()"
   ]
  },
  {
   "cell_type": "code",
   "execution_count": null,
   "metadata": {
    "collapsed": true
   },
   "outputs": [],
   "source": [
    "raw_data = {\n",
    "        'Year': ['1938', '1938', '1938', '1938', '1938', '1938', '1938', '1938', '1938'],\n",
    "        'Latitude':  [31.192552, 31.292552, 31.192552, 31.092552, 31.192552, 31.292552, 31.092552,\n",
    "                      31.292552, 31.092552], \n",
    "        'Longitude': [121.501759, 121.501759, 121.601759, 121.501759, 121.401759, 121.601759, 121.401759,\n",
    "                      121.401759, 121.601759]}\n",
    "df_a = pd.DataFrame(raw_data, columns = ['subject_id', 'first_name', 'last_name'])\n",
    "df_a"
   ]
  }
 ],
 "metadata": {
  "kernelspec": {
   "display_name": "Python 2",
   "language": "python",
   "name": "python2"
  },
  "language_info": {
   "codemirror_mode": {
    "name": "ipython",
    "version": 2
   },
   "file_extension": ".py",
   "mimetype": "text/x-python",
   "name": "python",
   "nbconvert_exporter": "python",
   "pygments_lexer": "ipython2",
   "version": "2.7.13"
  }
 },
 "nbformat": 4,
 "nbformat_minor": 2
}
